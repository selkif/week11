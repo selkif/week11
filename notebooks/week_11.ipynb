{
 "cells": [
  {
   "cell_type": "markdown",
   "metadata": {},
   "source": [
    "# Week 11: Time Series Forecasting for Portfolio Management Optimization"
   ]
  },
  {
   "cell_type": "markdown",
   "metadata": {},
   "source": [
    "## Fetch Data"
   ]
  },
  {
   "cell_type": "code",
   "execution_count": null,
   "metadata": {},
   "outputs": [],
   "source": [
    "import yfinance as yf\n",
    "import pandas as pd\n",
    "import numpy as np\n",
    "import matplotlib.pyplot as plt\n",
    "import seaborn as sns\n",
    "from statsmodels.tsa.seasonal import seasonal_decompose\n",
    "from statsmodels.tsa.arima.model import ARIMA\n",
    "from pmdarima import auto_arima\n",
    "from sklearn.preprocessing import StandardScaler\n",
    "from scipy.stats import norm\n",
    "from scipy.optimize import minimize\n",
    "\n",
    "# Fetch historical data\n",
    "def fetch_data(tickers, start=\"2015-01-01\", end=\"2025-01-31\"):\n",
    "    data = yf.download(tickers, start=start, end=end)[\"Adj Close\"]\n",
    "    return data\n",
    "\n",
    "\n",
    "# Main Execution\n",
    "tickers = [\"TSLA\", \"BND\", \"SPY\"]\n",
    "data = fetch_data(tickers)\n"
   ]
  },
  {
   "cell_type": "markdown",
   "metadata": {},
   "source": [
    "## Pre-process"
   ]
  },
  {
   "cell_type": "code",
   "execution_count": null,
   "metadata": {},
   "outputs": [],
   "source": [
    "# Data Preprocessing\n",
    "def preprocess_data(data):\n",
    "    data = data.dropna()\n",
    "    return data\n",
    "\n",
    "data = preprocess_data(data)\n"
   ]
  },
  {
   "cell_type": "markdown",
   "metadata": {},
   "source": [
    "## EDA"
   ]
  },
  {
   "cell_type": "code",
   "execution_count": null,
   "metadata": {},
   "outputs": [],
   "source": [
    "# Exploratory Data Analysis (EDA)\n",
    "def plot_closing_prices(data):\n",
    "    plt.figure(figsize=(12,6))\n",
    "    for col in data.columns:\n",
    "        plt.plot(data.index, data[col], label=col)\n",
    "    plt.legend()\n",
    "    plt.title(\"Closing Prices Over Time\")\n",
    "    plt.show()\n",
    "\n",
    "\n",
    "def calculate_daily_returns(data):\n",
    "    return data.pct_change().dropna()\n",
    "\n",
    "def plot_volatility(data):\n",
    "    volatility = data.pct_change().rolling(window=30).std()\n",
    "    volatility.plot(figsize=(12,6), title=\"Rolling 30-day Volatility\")\n",
    "    plt.show()\n",
    "plot_closing_prices(data)\n",
    "returns = calculate_daily_returns(data)\n",
    "plot_volatility(data)"
   ]
  },
  {
   "cell_type": "markdown",
   "metadata": {},
   "source": [
    "## Portifolio Analysis & Optimization"
   ]
  },
  {
   "cell_type": "code",
   "execution_count": null,
   "metadata": {},
   "outputs": [],
   "source": [
    "def decompose_seasonality(data, ticker):\n",
    "    decomposition = seasonal_decompose(data[ticker], model='multiplicative', period=252)\n",
    "    decomposition.plot()\n",
    "    plt.show()\n",
    "\n",
    "def fit_arima_model(data, ticker):\n",
    "    model = auto_arima(data[ticker], seasonal=False, stepwise=True, suppress_warnings=True)\n",
    "    return model\n",
    "\n",
    "def forecast_arima(model, steps=252):\n",
    "    forecast = model.predict(n_periods=steps)\n",
    "    return forecast\n",
    "\n",
    "def optimize_portfolio(returns):\n",
    "    num_assets = len(returns.columns)\n",
    "    weights = np.random.random(num_assets)\n",
    "    weights /= np.sum(weights)\n",
    "    \n",
    "    def portfolio_performance(weights, mean_returns, cov_matrix):\n",
    "        returns = np.dot(weights, mean_returns)\n",
    "        stddev = np.sqrt(np.dot(weights.T, np.dot(cov_matrix, weights)))\n",
    "        return returns, stddev\n",
    "    \n",
    "    def negative_sharpe(weights, mean_returns, cov_matrix, risk_free_rate=0.01):\n",
    "        returns, stddev = portfolio_performance(weights, mean_returns, cov_matrix)\n",
    "        return -(returns - risk_free_rate) / stddev\n",
    "    \n",
    "    mean_returns = returns.mean()\n",
    "    cov_matrix = returns.cov()\n",
    "    constraints = ({'type': 'eq', 'fun': lambda x: np.sum(x) - 1})\n",
    "    bounds = tuple((0,1) for asset in range(num_assets))\n",
    "    optimized = minimize(negative_sharpe, weights, args=(mean_returns, cov_matrix), method='SLSQP', bounds=bounds, constraints=constraints)\n",
    "    return optimized.x\n",
    "\n",
    "decompose_seasonality(data, \"TSLA\")\n",
    "tsla_arima = fit_arima_model(data, \"TSLA\")\n",
    "tsla_forecast = forecast_arima(tsla_arima)\n",
    "\n",
    "# Portfolio Optimization\n",
    "optimal_weights = optimize_portfolio(returns)\n",
    "print(\"Optimized Portfolio Weights:\", optimal_weights)"
   ]
  }
 ],
 "metadata": {
  "kernelspec": {
   "display_name": ".venv",
   "language": "python",
   "name": "python3"
  },
  "language_info": {
   "codemirror_mode": {
    "name": "ipython",
    "version": 3
   },
   "file_extension": ".py",
   "mimetype": "text/x-python",
   "name": "python",
   "nbconvert_exporter": "python",
   "pygments_lexer": "ipython3",
   "version": "3.11.2"
  }
 },
 "nbformat": 4,
 "nbformat_minor": 2
}
